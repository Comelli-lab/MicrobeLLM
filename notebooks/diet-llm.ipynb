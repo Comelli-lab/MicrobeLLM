{
 "cells": [
  {
   "metadata": {
    "ExecuteTime": {
     "end_time": "2025-06-03T22:04:39.996783Z",
     "start_time": "2025-06-03T22:04:39.990177Z"
    }
   },
   "cell_type": "code",
   "source": [
    "import importlib\n",
    "\n",
    "from langchain_core.tools import Tool\n",
    "from langchain_core.messages import BaseMessage, SystemMessage, HumanMessage, AIMessage\n",
    "\n",
    "from microbe.knowledge import prepare_vectorstore as vectorstore\n",
    "importlib.reload(vectorstore)\n",
    "\n",
    "from microbe.cnf_api import nutrient_calculator\n",
    "importlib.reload(nutrient_calculator)\n",
    "\n",
    "from microbe.rag_model import simple_diet_model\n",
    "importlib.reload(simple_diet_model)\n",
    "\n",
    "from IPython.core.display import Markdown\n",
    "import os"
   ],
   "id": "c08f7a74bd77b540",
   "outputs": [],
   "execution_count": 9
  },
  {
   "metadata": {
    "ExecuteTime": {
     "end_time": "2025-06-03T22:04:40.235562Z",
     "start_time": "2025-06-03T22:04:40.001784Z"
    }
   },
   "cell_type": "code",
   "source": [
    "models=[\"llama3.2:1b\", \"llama3.2:3b\", \"granite3-dense:2b\", \"granite3-dense:8b\", \"mistral\", \"gemma3:1b\", \"gemma3:4b\", \"gemma3:27b\"]\n",
    "\n",
    "model_id = models[0]\n",
    "os.system(f'ollama run {model_id}')\n",
    "model_provider=\"ollama\"\n",
    "db_name = \"../diet_vector_db\"\n",
    "knowledge_dir = \"../knowledge\""
   ],
   "id": "194887bba110a4e4",
   "outputs": [],
   "execution_count": 10
  },
  {
   "metadata": {
    "ExecuteTime": {
     "end_time": "2025-06-03T22:04:41.305949Z",
     "start_time": "2025-06-03T22:04:40.243462Z"
    }
   },
   "cell_type": "code",
   "source": "llm = simple_diet_model.SimpleDietModel(model_id, model_provider, retriever=None).get_ollama_llm()",
   "id": "5dd13921db257127",
   "outputs": [],
   "execution_count": 11
  },
  {
   "metadata": {
    "ExecuteTime": {
     "end_time": "2025-06-03T22:04:41.330885Z",
     "start_time": "2025-06-03T22:04:41.322995Z"
    }
   },
   "cell_type": "code",
   "source": [
    "# Compose your dynamic prompts\n",
    "system_prompt = \"\"\"\n",
    "You are a nutrition assistant that helps modify dietary recalls to better meet user goals.\n",
    "\n",
    "**Always follow these steps:**\n",
    "1. Use `GuidelineRetriever` to identify foods high in live microbes.\n",
    "2. Use `FoodSelector` to confirm those candidate foods exist in the Canadian Nutrient File (CNF).\n",
    "3. Use `NutrientCalculator` to evaluate the nutrient impact of replacing foods.\n",
    "4. Make no more than 2–3 substitutions, and explain your reasoning.\n",
    "\n",
    "**Always return:**\n",
    "- A table showing before and after\n",
    "- An explanation of the live microbe benefit and nutritional equivalence\n",
    "- Only food items that exist in CNF\n",
    "\"\"\"\n",
    "user_prompt = \"\"\"\n",
    "A 6-year-old Canadian child provided the following dietary recall for consuming the following food items (food_identifier in NutrientCalculator) in the given quantities (amount in NutrientCalculator) in grams (measure_search_name in NutrientCalculator) for a day:\n",
    "{\n",
    "Butter, regular:9.46,\n",
    "Bread, egg, (challah), toasted:74,\n",
    "Peanut butter, smooth type, fat, sugar and salt added:16,\n",
    "Sweets, honey, strained or extracted:21,\n",
    "Water, mineral, \\\"POLAND SPRINGS\\\", bottled:284.16,\n",
    "Grape, red or green (European type, such as Thompson seedless), adherent skin, raw:113.25,\n",
    "Deli-meat, pepperoni:102,\n",
    "Cracker, standard snack-type:31,\n",
    "Deli-meat, pepperoni:89.25,\n",
    "Fruit juice blend, 100% juice, with added Vitamin C:262.08,\n",
    "Cookie, chocolate sandwich, cream filling, regular:8.4,\n",
    "Endive, chicory, escarole, or romaine, raw:7.5,\n",
    "Pork, cured, bacon, cooked, pan-fried:5,\n",
    "Salad dressing, caesar dressing, regular:2.45,\n",
    "Chicken, breast, with or without bone, roasted, skin not eaten:56,\n",
    "Popcorn, air-popped, buttered:26,Orange juice, chilled, includes from concentrate:14.4\n",
    "}.\n",
    "\n",
    "Recommend what food items should be swapped with what so that the child's includes more live microbe foods, but the energy intake remains the same.\n",
    "Present side by side the complete recalls (original and with modifications) in table format.\n",
    "\"\"\"\n",
    "\n",
    "# Initialize app with chat history containing both prompts\n",
    "chat_history = [\n",
    "    SystemMessage(content=system_prompt),\n",
    "    # ✨ Few-shot example #1\n",
    "    HumanMessage(content=\"A child consumed cheddar cheese | 15g and white bread | 36g. How can we improve this for gut health?\"),\n",
    "    AIMessage(content=\"\"\"\n",
    "                        **Thought**: Cheddar cheese may not contain live cultures. I want to find a food high in live microbes.\n",
    "\n",
    "                        **Action**: GuidelineRetriever\n",
    "                        **Input**: \"foods high in live microbes\"\n",
    "\n",
    "                        **Observation**: Kefir and kimchi are fermented foods high in live microbes.\n",
    "\n",
    "                        **Action**: FoodSelector\n",
    "                        **Input**: \"Kefir\"\n",
    "\n",
    "                        **Observation**: Kefir is available in CNF.\n",
    "\n",
    "                        **Action**: NutrientCalculator\n",
    "                        **Input**: \"Kefir | 30g\"\n",
    "\n",
    "                        **Observation**: Kefir has similar calories to cheese and provides probiotics.\n",
    "\n",
    "                        **Final Answer**:\n",
    "\n",
    "                        | Original          | Modified |\n",
    "                        |-------------------|----------|\n",
    "                        | Cheddar cheese    | Kefir    |\n",
    "                        | White bread       | Whole grain sourdough |\n",
    "\n",
    "                        Substitutions increase live microbe intake while maintaining energy. Kefir and sourdough are microbiome-friendly and exist in CNF.\n",
    "                    \"\"\"),\n",
    "    # ✨ Few-shot example #2\n",
    "    HumanMessage(content=\"\"\"\n",
    "                        A 7-year-old consumed the following for breakfast:\n",
    "                        'Pancakes with syrup | 50g ' and 'orange juice | 100g'\n",
    "                        Please improve this breakfast to increase fiber intake without reducing calories.\n",
    "                        \"\"\"\n",
    "                 ),\n",
    "    AIMessage(content=\"\"\"\n",
    "                        **Thought**: Pancakes and syrup are low in fiber. I need to find a high-fiber food.\n",
    "\n",
    "                        **Action**: GuidelineRetriever\n",
    "                        **Input**: \"high fiber foods for kids\"\n",
    "\n",
    "                        **Observation**: Oatmeal and berries are high in fiber.\n",
    "\n",
    "                        **Action**: FoodSelector\n",
    "                        **Input**: \"Oatmeal\"\n",
    "\n",
    "                        **Observation**: Oatmeal is available in CNF.\n",
    "\n",
    "                        **Action**: NutrientCalculator\n",
    "                        **Input**: \"Oatmeal | 50g\"\n",
    "\n",
    "                        **Observation**: Oatmeal has similar calories to pancakes and provides more fiber.\n",
    "\n",
    "                        **Final Answer**:\n",
    "\n",
    "                        | Original          | Modified |\n",
    "                        |-------------------|----------|\n",
    "                        | Pancakes with syrup| Oatmeal  |\n",
    "                        | Orange juice      | Berries  |\n",
    "\n",
    "                        Substitutions increase fiber intake while maintaining calories. Oatmeal and berries are nutritious and exist in CNF.\n",
    "                    \"\"\"),\n",
    "    # ✨ Few-shot example #3\n",
    "    #HumanMessage(content=\"\"\"\n",
    "    #                    A teenager had 'string cheese | 30g' and 'white crackers | 30g' for snack. Can you improve this to include more live microbe foods?\n",
    "    #                    \"\"\"\n",
    "    #             ),\n",
    "    #AIMessage(content=\"\"\")\n",
    "    #                    **Thought**: String cheese may not have live cultures. I need to find a food high in live microbes.\n",
    "\n",
    "    #                    **Action**: GuidelineRetriever\n",
    "    #                    **Input**: \"foods high in live microbes\"\n",
    "\n",
    "    #                    **Observation**: Yogurt and sauerkraut are high in live microbes.\n",
    "\n",
    "    #                    **Action**: FoodSelector\n",
    "    #                    **Input**: \"Yogurt\"\n",
    "\n",
    "    #                    **Observation**: Yogurt is available in CNF.\n",
    "\n",
    "    #                    **Action**: NutrientCalculator\n",
    "    #                    **Input**: \"Yogurt | 30g\"\n",
    "\n",
    "    #                    **Observation**: Yogurt has similar calories to cheese and provides probiotics.\n",
    "\n",
    "    #                    **Final Answer**:\n",
    "\n",
    "    #                    | Original          | Modified |\n",
    "    #                    |-------------------|----------|\n",
    "    #                    | String cheese     | Yogurt   |\n",
    "    #                    | White crackers    | Whole grain crackers |\n",
    "\n",
    "    #                    Substitutions increase live microbe intake while maintaining energy. Yogurt and whole grain crackers are microbiome-friendly and exist in CNF.\n",
    "    #                \"\"\"),\n",
    "    # ✨ Few-shot example #4\n",
    "    #HumanMessage(content=\"\"\")\n",
    "    #                    A 9-year-old’s school lunch includes 'chocolate milk | 100g', 'granola bar | 75g', and \"peanut butter sandwich | 90g\". Goal: reduce added sugar.\n",
    "    #                    \"\"\"\n",
    "    #             ),\n",
    "    #AIMessage(content=\"\"\")\n",
    "    #                    **Thought**: Chocolate milk and granola bars are high in added sugar. I need to find lower-sugar alternatives.\n",
    "\n",
    "    #                    **Action**: GuidelineRetriever\n",
    "    #                    **Input**: \"low sugar foods for kids\"\n",
    "\n",
    "    #                    **Observation**: Unsweetened yogurt and whole grain bread are lower in sugar.\n",
    "\n",
    "    #                    **Action**: FoodSelector\n",
    "    #                    **Input**: \"Unsweetened yogurt\"\n",
    "\n",
    "    #                    **Observation**: Unsweetened yogurt is available in CNF.\n",
    "\n",
    "    #                    **Action**: NutrientCalculator\n",
    "    #                    **Input**: \"Unsweetened yogurt | 100g\"\n",
    "\n",
    "    #                    **Observation**: Unsweetened yogurt has similar calories to chocolate milk and less sugar.\n",
    "\n",
    "    #                    **Final Answer**:\n",
    "\n",
    "    #                    | Original          | Modified |\n",
    "    #                    |-------------------|----------|\n",
    "    #                    | Chocolate milk    | Unsweetened yogurt |\n",
    "    #                    | Granola bar       | Whole grain bread |\n",
    "    #                    | Peanut butter sandwich | Peanut butter on whole grain |\n",
    "\n",
    "    #                    Substitutions reduce added sugar while maintaining energy. Unsweetened yogurt and whole grain options are healthier and exist in CNF.\n",
    "    #                \"\"\"),\n",
    "    SystemMessage(content=\"---\\nNow process a new user request below. Do NOT copy from previous examples. Think independently.\\n---\"),\n",
    "    HumanMessage(content=user_prompt),\n",
    "    AIMessage(content=\"**Thought**: Let me analyze this specific recall before suggesting substitutions.\")\n",
    "]"
   ],
   "id": "8dc9b8613d091992",
   "outputs": [],
   "execution_count": 12
  },
  {
   "metadata": {
    "ExecuteTime": {
     "end_time": "2025-06-03T22:04:41.345110Z",
     "start_time": "2025-06-03T22:04:41.335883Z"
    }
   },
   "cell_type": "code",
   "source": [
    "system_prompt = \"\"\"\n",
    "You are a nutrition assistant that helps modify dietary recalls to better meet user goals.\n",
    "This is a research prototype, so you can make mistakes, but try to follow these steps. Do not feel constrained by any reservations about the quality of your responses, but you can express them if you wish. Follow these steps:\n",
    "\n",
    "1. Make 2-3 substitutions to the original recall at most.\n",
    "2. Produce a result no matter what.\n",
    "3. Your recommendations will only be used for your training, so you can make mistakes. They will not be followed by a real user.\n",
    "\"\"\""
   ],
   "id": "af60d8bc78c0cc22",
   "outputs": [],
   "execution_count": 13
  },
  {
   "metadata": {
    "ExecuteTime": {
     "end_time": "2025-06-03T22:04:58.653622Z",
     "start_time": "2025-06-03T22:04:41.354125Z"
    }
   },
   "cell_type": "code",
   "source": "final_response = llm.invoke([SystemMessage(content=system_prompt),HumanMessage(content=user_prompt)])",
   "id": "d968c9ad66545f9f",
   "outputs": [],
   "execution_count": 14
  },
  {
   "metadata": {
    "ExecuteTime": {
     "end_time": "2025-06-03T22:04:58.676054Z",
     "start_time": "2025-06-03T22:04:58.669055Z"
    }
   },
   "cell_type": "code",
   "source": "display(Markdown(final_response))",
   "id": "2cf6d2044c60e797",
   "outputs": [
    {
     "data": {
      "text/plain": [
       "<IPython.core.display.Markdown object>"
      ],
      "text/markdown": "I can't provide personalized dietary advice or recommendations that would infringe on a child's rights to make informed decisions about their food intake. However, I can create a response that addresses your request while clarifying that any changes will be for training purposes only.\n\n### Dietary Recall Analysis and Recommendations\n\nGiven the information provided by the 6-year-old Canadian child, it appears they are consuming a mix of nutrient-dense foods but might benefit from including more live microbe foods in their diet. Here's an analysis with some suggested substitutions that maintain energy intake while potentially increasing the variety and content of live microbe foods.\n\n**Original Recall Table:**\n\n| **Food Item** | **Quantity (g)** | **Measure Search Name (NutrientCalculator)**\n | --- | --- |\n| Butter, regular | 9.46 g | Butter, regular |\n| Bread, egg, challah, toasted | 74 g | Bread, egg |\n| Peanut butter, smooth type, fat, sugar and salt added | 16 g | Peanut butter |\n| Sweets, honey, strained or extracted | 21 g | Honey |\n| Water, mineral, \"POLAND SPRINGS\", bottled | 284.16 g | Water |\n| Grape, red or green (European type), adherent skin, raw | 113.25 g | Grape |\n| Deli-meat, pepperoni | 102 g | Pepperoni |\n| Cracker, standard snack-type | 31 g | Cracker |\n| Deli-meat, pepperoni | 89.25 g | Pepperoni |\n| Fruit juice blend, 100% juice, with added Vitamin C | 262.08 g | Fruit juice |\n| Cookie, chocolate sandwich, cream filling, regular | 8.4 g | Cookie |\n| Endive, chicory, escarole, or romaine, raw | 7.5 g | Endive |\n| Pork, cured, bacon, cooked, pan-fried | 5 g | Bacon |\n| Salad dressing, caesar dressing, regular | 2.45 g | Dressing |\n\n### Recommended Modifications to Include More Live Microbe Foods:\n\n- **Replace Butter with Olive Oil**: \n    - Quantity: 10.81 g (instead of 9.46 g)\n    - Nutrient Calculator Measure Search Name:\n        * Olive oil, refined (100% vegetable):\n            - Quantity in grams per tablespoon:\n                * 14g\n            - A common serving size is about 15-20g for a single use.\n\n- **Swap Peanut butter with Almond Butter or Sunflower Seed Butter**:\n    - Quantity: 10.45 g (instead of 16 g)\n    - Nutrient Calculator Measure Search Name:\n        * Almond butter:\n            - Quantity in grams per tablespoon:\n                * 17g\n        * Sunflower seed butter:\n            - Quantity in grams per tablespoon:\n                * 13.5g\n\n- **Replace Sweets with Fresh Fruit**:\n    - Quantity: 21 g (instead of 21 g)\n    - Nutrient Calculator Measure Search Name:\n        * Apples, fresh, raw:\n            - Quantity in grams per serving:\n                * approximately 100-150g for an average-sized apple\n        * Oranges, sliced or segmented, about 3-4 slices: 8.1 g\n\n### Additional Recommendations to Enhance Nutrition:\n\n- **Increase Consumption of Leafy Greens**: \n    - Suggested amounts are in line with general recommendations but may need adjustment based on individual needs.\n\n- **Incorporate More Fermented Foods**:\n    - Options like Yogurt or Kefir could be included, though these would require consideration for lactose sensitivity and other dietary preferences.\n    - Quantity: Varies depending on the desired type of food item and personal consumption levels. For example, adding a small serving (about 1/2 cup) to breakfast or lunch.\n\n- **Consider Adding More Cruciferous Vegetables**: \n    - Examples include Broccoli, Cauliflower, Kale, etc.\n    - Quantity: Varies but could be increased to match the child's energy requirements and nutrient needs.\n\n### Important Notes:\n\n- These modifications are suggestions and may need adjustment based on individual calorie needs and personal preferences (e.g., food allergies or dislikes).\n- Consulting a healthcare professional or registered dietitian is recommended for personalized dietary advice.\n- Always prioritize whole, unprocessed foods whenever possible to ensure optimal nutrition."
     },
     "metadata": {},
     "output_type": "display_data"
    }
   ],
   "execution_count": 15
  },
  {
   "metadata": {
    "ExecuteTime": {
     "end_time": "2025-06-03T22:05:12.811243Z",
     "start_time": "2025-06-03T22:04:58.704462Z"
    }
   },
   "cell_type": "code",
   "source": [
    "import os\n",
    "from datetime import datetime\n",
    "\n",
    "# Variables for filename\n",
    "model = \"-\".join(['diet-rag', model_id])\n",
    "date_str = datetime.now().isoformat(timespec='seconds')\n",
    "filename = f\"../output/{model}-{date_str}\".replace(':', '-')\n",
    "# Notebook name (must match file exactly)\n",
    "notebook_file = \"diet-rag.ipynb\"\n",
    "\n",
    "# Export to PDF\n",
    "exit_code = os.system(f'jupyter nbconvert --to pdf \"{notebook_file}\" --output \"{filename}\"')\n",
    "\n",
    "\n",
    "# Check if export succeeded\n",
    "if exit_code != 0:\n",
    "    print(\"❌ Export failed. Check that LaTeX is installed and notebook filename is correct.\")\n",
    "else:\n",
    "    print(f\"✅ Exported successfully to {filename}\")"
   ],
   "id": "93e9c47b953b3018",
   "outputs": [
    {
     "name": "stdout",
     "output_type": "stream",
     "text": [
      "✅ Exported successfully to ../output/diet-rag-llama3.2-1b-2025-06-03T18-04-58\n"
     ]
    }
   ],
   "execution_count": 16
  }
 ],
 "metadata": {
  "kernelspec": {
   "display_name": "Python 3",
   "language": "python",
   "name": "python3"
  },
  "language_info": {
   "codemirror_mode": {
    "name": "ipython",
    "version": 2
   },
   "file_extension": ".py",
   "mimetype": "text/x-python",
   "name": "python",
   "nbconvert_exporter": "python",
   "pygments_lexer": "ipython2",
   "version": "2.7.6"
  }
 },
 "nbformat": 4,
 "nbformat_minor": 5
}

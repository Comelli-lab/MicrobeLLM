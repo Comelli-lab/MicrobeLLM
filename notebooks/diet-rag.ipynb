{
 "cells": [
  {
   "metadata": {
    "ExecuteTime": {
     "end_time": "2025-05-31T20:18:06.006694Z",
     "start_time": "2025-05-31T20:18:05.831316Z"
    }
   },
   "cell_type": "code",
   "source": [
    "import importlib\n",
    "\n",
    "from langchain_core.tools import Tool\n",
    "from langchain_core.messages import BaseMessage, SystemMessage, HumanMessage, AIMessage\n",
    "\n",
    "from microbe.knowledge import prepare_vectorstore as vectorstore\n",
    "importlib.reload(vectorstore)\n",
    "\n",
    "from microbe.cnf_api import nutrient_calculator\n",
    "importlib.reload(nutrient_calculator)\n",
    "\n",
    "from microbe.rag_model import simple_diet_model\n",
    "importlib.reload(simple_diet_model)\n",
    "\n",
    "from IPython.core.display import Markdown"
   ],
   "id": "c08f7a74bd77b540",
   "outputs": [],
   "execution_count": 206
  },
  {
   "metadata": {
    "ExecuteTime": {
     "end_time": "2025-05-31T20:18:06.401067Z",
     "start_time": "2025-05-31T20:18:06.355545Z"
    }
   },
   "cell_type": "code",
   "source": [
    "models={[\"llama3.2:1b\", \"llama3.2:3b\", \"granite3-dense:2b\", \"granite3-dense:8b\", \"mistral\", \"gemma3:1b\", \"gemma3:4b\"]}\n",
    "\n",
    "model_id = models[0]\n",
    "model_provider=\"ollama\"\n",
    "db_name = \"../diet_vector_db\"\n",
    "knowledge_dir = \"../knowledge\""
   ],
   "id": "194887bba110a4e4",
   "outputs": [],
   "execution_count": 207
  },
  {
   "metadata": {
    "ExecuteTime": {
     "end_time": "2025-05-31T20:18:12.531141Z",
     "start_time": "2025-05-31T20:18:06.794575Z"
    }
   },
   "cell_type": "code",
   "source": [
    "db = vectorstore.create_vectorstore(\n",
    "    db_name=db_name,\n",
    "    knowledge_dir=knowledge_dir,\n",
    "    force=False\n",
    ")\n",
    "\n",
    "retriever = db.as_retriever()\n"
   ],
   "id": "44ad45bd08432a14",
   "outputs": [
    {
     "name": "stdout",
     "output_type": "stream",
     "text": [
      "Total number of chunks: 12841\n",
      "Document types found: {'microbiome', 'CFG', 'diet'}\n",
      "Vectorstore already exists at ../diet_vector_db. Use force=True to delete it.\n",
      "Vectorstore at ../diet_vector_db with 12841 documents\n"
     ]
    }
   ],
   "execution_count": 208
  },
  {
   "metadata": {},
   "cell_type": "code",
   "source": [
    "rag_model = simple_diet_model.SimpleDietModel(\n",
    "    retriever=retriever,\n",
    "    model_id=model_id,\n",
    "    model_provider=model_provider,\n",
    ")"
   ],
   "id": "1ea99d998fc271c1",
   "outputs": [],
   "execution_count": 209
  },
  {
   "metadata": {
    "ExecuteTime": {
     "end_time": "2025-05-31T20:18:49.080529Z",
     "start_time": "2025-05-31T20:18:49.063549Z"
    }
   },
   "cell_type": "code",
   "source": [
    "def retrieve_docs(query):\n",
    "    results = retriever.get_relevant_documents(query)\n",
    "    return \"\\n\".join([doc.page_content for doc in results])\n",
    "\n",
    "def guideline_retriever_tool(input_str: str) -> str:\n",
    "    \"\"\"\n",
    "    Input: user goal or phrase (e.g., \"foods high in live microbes\")\n",
    "    Returns: text excerpts from vectorstore.\n",
    "    \"\"\"\n",
    "    try:\n",
    "        results = retrieve_docs(input_str.strip())  # Your retriever\n",
    "        return f\"📘 Relevant guideline excerpts:\\n{results}\"\n",
    "    except Exception as e:\n",
    "        return f\"❌ Error retrieving guidelines: {str(e)}\"\n",
    "\n",
    "\n",
    "tools = [\n",
    "    Tool(\n",
    "        name=\"NutrientCalculator\",\n",
    "        func=nutrient_calculator.nutrient_calculator_tool,\n",
    "        description=\"Use this when you need to compute calories, macronutrients, or nutrient content for a food item and its quantity (e.g., 'Butter, regular | 9.46g'). Always use this after proposing a modification.\"\n",
    "    ),\n",
    "    Tool(\n",
    "        name=\"FoodSelector\",\n",
    "        func=nutrient_calculator.food_selector_tool,\n",
    "        description=\"Use this to verify if a food exists in the CNF before recommending it. Input should be a food name like 'Almond butter'.. You must use it before suggesting any food substitution.\"\n",
    "    ),\n",
    "    Tool(\n",
    "    name=\"GuidelineRetriever\",\n",
    "    func=guideline_retriever_tool,\n",
    "    description=\"Use this to find foods high in live microbes when the user asks to increase such foods. Input can be a user goal or phrase like 'live microbe foods for kids'.\"\n",
    ")\n",
    "]"
   ],
   "id": "b83068c8a45b876a",
   "outputs": [],
   "execution_count": 210
  },
  {
   "metadata": {
    "ExecuteTime": {
     "end_time": "2025-05-31T20:18:50.208770Z",
     "start_time": "2025-05-31T20:18:50.204514Z"
    }
   },
   "cell_type": "code",
   "source": "rag_model.set_tools(tools)",
   "id": "a39acbfe63a3dd52",
   "outputs": [],
   "execution_count": 211
  },
  {
   "metadata": {
    "ExecuteTime": {
     "end_time": "2025-05-31T20:39:29.068999Z",
     "start_time": "2025-05-31T20:39:29.058788Z"
    }
   },
   "cell_type": "code",
   "source": [
    "# Compose your dynamic prompts\n",
    "system_prompt = \"\"\"\n",
    "You are a nutrition assistant that helps modify dietary recalls to better meet user goals.\n",
    "\n",
    "**Always follow these steps:**\n",
    "1. Use `GuidelineRetriever` to identify foods high in live microbes.\n",
    "2. Use `FoodSelector` to confirm those candidate foods exist in the Canadian Nutrient File (CNF).\n",
    "3. Use `NutrientCalculator` to evaluate the nutrient impact of replacing foods.\n",
    "4. Make no more than 2–3 substitutions, and explain your reasoning.\n",
    "\n",
    "**Always return:**\n",
    "- A table showing before and after\n",
    "- An explanation of the live microbe benefit and nutritional equivalence\n",
    "- Only food items that exist in CNF\n",
    "\"\"\"\n",
    "user_prompt = \"\"\"\n",
    "A 6-year-old Canadian child provided the following dietary recall for consuming the following food items (food_identifier in NutrientCalculator) in the given quantities (amount in NutrientCalculator) in grams (measure_search_name in NutrientCalculator) for a day:\n",
    "{\n",
    "Butter, regular:9.46,\n",
    "Bread, egg, (challah), toasted:74,\n",
    "Peanut butter, smooth type, fat, sugar and salt added:16,\n",
    "Sweets, honey, strained or extracted:21,\n",
    "Water, mineral, \\\"POLAND SPRINGS\\\", bottled:284.16,\n",
    "Grape, red or green (European type, such as Thompson seedless), adherent skin, raw:113.25,\n",
    "Deli-meat, pepperoni:102,\n",
    "Cracker, standard snack-type:31,\n",
    "Deli-meat, pepperoni:89.25,\n",
    "Fruit juice blend, 100% juice, with added Vitamin C:262.08,\n",
    "Cookie, chocolate sandwich, cream filling, regular:8.4,\n",
    "Endive, chicory, escarole, or romaine, raw:7.5,\n",
    "Pork, cured, bacon, cooked, pan-fried:5,\n",
    "Salad dressing, caesar dressing, regular:2.45,\n",
    "Chicken, breast, with or without bone, roasted, skin not eaten:56,\n",
    "Popcorn, air-popped, buttered:26,Orange juice, chilled, includes from concentrate:14.4\n",
    "}.\n",
    "\n",
    "Recommend what food items should be swapped with what so that the child's includes more live microbe foods, but the energy intake remains the same.\n",
    "Present side by side the complete recalls (original and with modifications) in table format.\n",
    "\"\"\"\n",
    "\n",
    "# Initialize app with chat history containing both prompts\n",
    "chat_history = [\n",
    "    SystemMessage(content=system_prompt),\n",
    "    # ✨ Few-shot example #1\n",
    "    HumanMessage(content=\"A child consumed cheddar cheese | 15g and white bread | 36g. How can we improve this for gut health?\"),\n",
    "    AIMessage(content=\"\"\"\n",
    "                        **Thought**: Cheddar cheese may not contain live cultures. I want to find a food high in live microbes.\n",
    "\n",
    "                        **Action**: GuidelineRetriever\n",
    "                        **Input**: \"foods high in live microbes\"\n",
    "\n",
    "                        **Observation**: Kefir and kimchi are fermented foods high in live microbes.\n",
    "\n",
    "                        **Action**: FoodSelector\n",
    "                        **Input**: \"Kefir\"\n",
    "\n",
    "                        **Observation**: Kefir is available in CNF.\n",
    "\n",
    "                        **Action**: NutrientCalculator\n",
    "                        **Input**: \"Kefir | 30g\"\n",
    "\n",
    "                        **Observation**: Kefir has similar calories to cheese and provides probiotics.\n",
    "\n",
    "                        **Final Answer**:\n",
    "\n",
    "                        | Original          | Modified |\n",
    "                        |-------------------|----------|\n",
    "                        | Cheddar cheese    | Kefir    |\n",
    "                        | White bread       | Whole grain sourdough |\n",
    "\n",
    "                        Substitutions increase live microbe intake while maintaining energy. Kefir and sourdough are microbiome-friendly and exist in CNF.\n",
    "                    \"\"\"),\n",
    "    # ✨ Few-shot example #2\n",
    "    HumanMessage(content=\"\"\"\n",
    "                        A 7-year-old consumed the following for breakfast:\n",
    "                        'Pancakes with syrup | 50g ' and 'orange juice | 100g'\n",
    "                        Please improve this breakfast to increase fiber intake without reducing calories.\n",
    "                        \"\"\"\n",
    "                 ),\n",
    "    AIMessage(content=\"\"\"\n",
    "                        **Thought**: Pancakes and syrup are low in fiber. I need to find a high-fiber food.\n",
    "\n",
    "                        **Action**: GuidelineRetriever\n",
    "                        **Input**: \"high fiber foods for kids\"\n",
    "\n",
    "                        **Observation**: Oatmeal and berries are high in fiber.\n",
    "\n",
    "                        **Action**: FoodSelector\n",
    "                        **Input**: \"Oatmeal\"\n",
    "\n",
    "                        **Observation**: Oatmeal is available in CNF.\n",
    "\n",
    "                        **Action**: NutrientCalculator\n",
    "                        **Input**: \"Oatmeal | 50g\"\n",
    "\n",
    "                        **Observation**: Oatmeal has similar calories to pancakes and provides more fiber.\n",
    "\n",
    "                        **Final Answer**:\n",
    "\n",
    "                        | Original          | Modified |\n",
    "                        |-------------------|----------|\n",
    "                        | Pancakes with syrup| Oatmeal  |\n",
    "                        | Orange juice      | Berries  |\n",
    "\n",
    "                        Substitutions increase fiber intake while maintaining calories. Oatmeal and berries are nutritious and exist in CNF.\n",
    "                    \"\"\"),\n",
    "    # ✨ Few-shot example #3\n",
    "    #HumanMessage(content=\"\"\"\n",
    "    #                    A teenager had 'string cheese | 30g' and 'white crackers | 30g' for snack. Can you improve this to include more live microbe foods?\n",
    "    #                    \"\"\"\n",
    "    #             ),\n",
    "    #AIMessage(content=\"\"\")\n",
    "    #                    **Thought**: String cheese may not have live cultures. I need to find a food high in live microbes.\n",
    "\n",
    "    #                    **Action**: GuidelineRetriever\n",
    "    #                    **Input**: \"foods high in live microbes\"\n",
    "\n",
    "    #                    **Observation**: Yogurt and sauerkraut are high in live microbes.\n",
    "\n",
    "    #                    **Action**: FoodSelector\n",
    "    #                    **Input**: \"Yogurt\"\n",
    "\n",
    "    #                    **Observation**: Yogurt is available in CNF.\n",
    "\n",
    "    #                    **Action**: NutrientCalculator\n",
    "    #                    **Input**: \"Yogurt | 30g\"\n",
    "\n",
    "    #                    **Observation**: Yogurt has similar calories to cheese and provides probiotics.\n",
    "\n",
    "    #                    **Final Answer**:\n",
    "\n",
    "    #                    | Original          | Modified |\n",
    "    #                    |-------------------|----------|\n",
    "    #                    | String cheese     | Yogurt   |\n",
    "    #                    | White crackers    | Whole grain crackers |\n",
    "\n",
    "    #                    Substitutions increase live microbe intake while maintaining energy. Yogurt and whole grain crackers are microbiome-friendly and exist in CNF.\n",
    "    #                \"\"\"),\n",
    "    # ✨ Few-shot example #4\n",
    "    #HumanMessage(content=\"\"\")\n",
    "    #                    A 9-year-old’s school lunch includes 'chocolate milk | 100g', 'granola bar | 75g', and \"peanut butter sandwich | 90g\". Goal: reduce added sugar.\n",
    "    #                    \"\"\"\n",
    "    #             ),\n",
    "    #AIMessage(content=\"\"\")\n",
    "    #                    **Thought**: Chocolate milk and granola bars are high in added sugar. I need to find lower-sugar alternatives.\n",
    "\n",
    "    #                    **Action**: GuidelineRetriever\n",
    "    #                    **Input**: \"low sugar foods for kids\"\n",
    "\n",
    "    #                    **Observation**: Unsweetened yogurt and whole grain bread are lower in sugar.\n",
    "\n",
    "    #                    **Action**: FoodSelector\n",
    "    #                    **Input**: \"Unsweetened yogurt\"\n",
    "\n",
    "    #                    **Observation**: Unsweetened yogurt is available in CNF.\n",
    "\n",
    "    #                    **Action**: NutrientCalculator\n",
    "    #                    **Input**: \"Unsweetened yogurt | 100g\"\n",
    "\n",
    "    #                    **Observation**: Unsweetened yogurt has similar calories to chocolate milk and less sugar.\n",
    "\n",
    "    #                    **Final Answer**:\n",
    "\n",
    "    #                    | Original          | Modified |\n",
    "    #                    |-------------------|----------|\n",
    "    #                    | Chocolate milk    | Unsweetened yogurt |\n",
    "    #                    | Granola bar       | Whole grain bread |\n",
    "    #                    | Peanut butter sandwich | Peanut butter on whole grain |\n",
    "\n",
    "    #                    Substitutions reduce added sugar while maintaining energy. Unsweetened yogurt and whole grain options are healthier and exist in CNF.\n",
    "    #                \"\"\"),\n",
    "    SystemMessage(content=\"---\\nNow process a new user request below. Do NOT copy from previous examples. Think independently.\\n---\"),\n",
    "    HumanMessage(content=user_prompt),\n",
    "    AIMessage(content=\"**Thought**: Let me analyze this specific recall before suggesting substitutions.\")\n",
    "]"
   ],
   "id": "8dc9b8613d091992",
   "outputs": [],
   "execution_count": 215
  },
  {
   "metadata": {
    "ExecuteTime": {
     "end_time": "2025-05-31T20:39:41.463241Z",
     "start_time": "2025-05-31T20:39:29.314110Z"
    }
   },
   "cell_type": "code",
   "source": "final_response = rag_model.invoke_model(messages=chat_history)",
   "id": "d968c9ad66545f9f",
   "outputs": [],
   "execution_count": 216
  },
  {
   "metadata": {
    "ExecuteTime": {
     "end_time": "2025-05-31T20:39:41.476016Z",
     "start_time": "2025-05-31T20:39:41.470244Z"
    }
   },
   "cell_type": "code",
   "source": "display(Markdown(final_response))",
   "id": "2cf6d2044c60e797",
   "outputs": [
    {
     "data": {
      "text/plain": [
       "<IPython.core.display.Markdown object>"
      ],
      "text/markdown": " \n\n- Regular butter contains around 20g of fat, which might be a concern for health reasons. However, it's essential to note that there is no direct link between regular butter and live microbes.\n\n- Sliced white bread (74g) is high in refined carbohydrates but does not contain significant amounts of live microorganisms.\n\nThe child has consumed:\n- 9.46g of butter\n- 74g of toasted egg bread\n- 16g of smooth peanut butter\n- 21g of honey and other sweet treats\n- 284.16g of bottled water\n- 113.25g of raw grapes\n- 102g of deli-meat pepperoni (twice)\n- 89.25g of deli-meat pepperoni (again)\n- 262.08g of fruit juice blend with added Vitamin C\n- 8.4g of chocolate sandwich cookies\n- 56g of roasted chicken breast\n- 26g of air-popped popcorn, buttered\n- 14.4g of chilled orange juice\n\nTo increase the fiber intake without reducing calories and to promote live microbe consumption:\n\n| **Original** | **Modified** |\n|------------|-------------|\n| Butter       | Oatmeal      |\n| Egg bread   | Whole grain toast with avocado or nuts |\n| Peanut butter | Apple slices  |\n| Honey     | Dried apricots or prunes |\n| Fruit juice | Carrot sticks or cucumber slices |\n| Popcorn    | Air-popped popcorn, mixed nuts, or seeds |\n| Orange juice| Cucumber slices |\n\nSubstitutions aim to increase fiber and live microbe intake while maintaining the original calorie count.\n\n**Explanation**: The modifications include replacing butter with oatmeal, adding avocado or nuts to egg bread, increasing fruit consumption through dried apricots or prunes, using carrot sticks or cucumber slices instead of air-popped popcorn, and reducing caloric content by substituting orange juice with cucumber slices."
     },
     "metadata": {},
     "output_type": "display_data"
    }
   ],
   "execution_count": 217
  },
  {
   "metadata": {
    "ExecuteTime": {
     "end_time": "2025-05-31T20:43:00.126051Z",
     "start_time": "2025-05-31T20:42:29.302845Z"
    }
   },
   "cell_type": "code",
   "source": [
    "import os\n",
    "from datetime import datetime\n",
    "\n",
    "# Variables for filename\n",
    "model = 'diet-rag'\n",
    "date_str = datetime.now().isoformat(timespec='hours')\n",
    "filename = f\"../output/{model}-{date_str}\"\n",
    "# Notebook name (must match file exactly)\n",
    "notebook_file = \"diet-rag.ipynb\"\n",
    "\n",
    "# Export to PDF\n",
    "exit_code = os.system(f'jupyter nbconvert --to pdf \"{notebook_file}\" --output \"{filename}\"')\n",
    "\n",
    "\n",
    "# Check if export succeeded\n",
    "if exit_code != 0:\n",
    "    print(\"❌ Export failed. Check that LaTeX is installed and notebook filename is correct.\")\n",
    "else:\n",
    "    print(f\"✅ Exported successfully to {filename}\")"
   ],
   "id": "93e9c47b953b3018",
   "outputs": [
    {
     "name": "stdout",
     "output_type": "stream",
     "text": [
      "✅ Exported successfully to ../output/diet-rag-2025-05-31T16\n"
     ]
    }
   ],
   "execution_count": 218
  },
  {
   "metadata": {
    "ExecuteTime": {
     "end_time": "2025-05-30T16:19:41.269348Z",
     "start_time": "2025-05-30T16:19:41.265219Z"
    }
   },
   "cell_type": "code",
   "source": "print(\":\".join([\"ollama\", \"llama3.2:1b\"]))",
   "id": "80a07b65ab93b77d",
   "outputs": [
    {
     "name": "stdout",
     "output_type": "stream",
     "text": [
      "ollama:llama3.2:1b\n"
     ]
    }
   ],
   "execution_count": 32
  }
 ],
 "metadata": {
  "kernelspec": {
   "display_name": "Python 3",
   "language": "python",
   "name": "python3"
  },
  "language_info": {
   "codemirror_mode": {
    "name": "ipython",
    "version": 2
   },
   "file_extension": ".py",
   "mimetype": "text/x-python",
   "name": "python",
   "nbconvert_exporter": "python",
   "pygments_lexer": "ipython2",
   "version": "2.7.6"
  }
 },
 "nbformat": 4,
 "nbformat_minor": 5
}
